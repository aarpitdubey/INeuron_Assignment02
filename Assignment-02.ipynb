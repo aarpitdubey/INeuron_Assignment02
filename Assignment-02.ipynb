{
 "cells": [
  {
   "cell_type": "markdown",
   "metadata": {},
   "source": [
    "# Assignment 2"
   ]
  },
  {
   "cell_type": "markdown",
   "metadata": {},
   "source": [
    "<p><b>Task 1:\n",
    "    <hr>\n",
    "Ques 1.1 Write a Python Program to implement your own myreduce() function which works exactly like\n",
    "Python's built-in function reduce()</b></p>\n",
    "\n",
    "\n",
    "\n",
    "Ans: The reduce() function accepts a function and a sequence and returns a single value calculated as follows:\n",
    "\n",
    "Initially, the function is called with the first two items from the sequence and the result is returned.\n",
    "The function is then called again with the result obtained in step 1 and the next value in the sequence. This process keeps repeating until there are items in the sequence.\n",
    "The syntax of the reduce() function is as follows:\n",
    "\n",
    "Syntax: reduce(function, sequence[, initial]) -> value\n",
    "\n",
    "When the initial value is provided, the function is called with the initial value and the first item from the sequence.\n",
    "\n",
    "In Python 2, reduce() was a built-in function. However, in Python 3, it is moved to functools  module."
   ]
  },
  {
   "cell_type": "code",
   "execution_count": 1,
   "metadata": {},
   "outputs": [
    {
     "name": "stdout",
     "output_type": "stream",
     "text": [
      "\n",
      "***************************************************************************\n",
      "Enter the values seperated by commas                            : 8, 4, 2\n",
      "***************************************************************************\n",
      "1. Addition of inputs using User-defined reduce function        : 14\n",
      "2. Substraction of inputs using User-defined reduce function    : 2\n",
      "3. Division of inputs using User-defined reduce function        : 1\n",
      "4. Multiplication of inputs using User-defined reduce function  : 64\n",
      "5. Powering of inputs using User-defined reduce function        : 16777216\n",
      "***************************************************************************\n"
     ]
    }
   ],
   "source": [
    "# 1.  myreduce() should accept a function and a sequence\n",
    "# 2. return single value\n",
    "# 3. \n",
    "\n",
    "\n",
    "def myreduce(fun_, seq_):\n",
    "    \n",
    "    initial = seq_[0]\n",
    "    \n",
    "    for var in seq_[1:]:\n",
    "        initial = fun_(initial, var)\n",
    "    return initial\n",
    "\n",
    "def pow_(x,y):\n",
    "    return x ** y\n",
    "\n",
    "def mul(x, y):\n",
    "    return x * y\n",
    "\n",
    "def add(x, y):\n",
    "    return x + y\n",
    "\n",
    "def sub(x, y):\n",
    "    return x - y\n",
    "\n",
    "def div(x, y):\n",
    "    return x // y\n",
    "\n",
    "\n",
    "\n",
    "print()\n",
    "print('*'*75)\n",
    "input_ = list(input(\"Enter the values seperated by commas                            : \").split(','))\n",
    "input_ = list(map(int, input_)) # 8, 4, 2\n",
    "print('*'*75)\n",
    "print (\"1. Addition of inputs using User-defined reduce function        : \"   + str(myreduce(add, input_)) )\n",
    "print (\"2. Substraction of inputs using User-defined reduce function    : \"   + str(myreduce(sub, input_)) )\n",
    "print (\"3. Division of inputs using User-defined reduce function        : \"   + str(myreduce(div, input_)) )\n",
    "print (\"4. Multiplication of inputs using User-defined reduce function  : \"   + str(myreduce(mul, input_)) )\n",
    "print (\"5. Powering of inputs using User-defined reduce function        : \"   + str(myreduce(pow_, input_)) )\n",
    "print('*'*75)"
   ]
  },
  {
   "cell_type": "markdown",
   "metadata": {},
   "source": [
    "### Steps : \n",
    "<p>\n",
    "    <ol>\n",
    "        <li>Creating a function myreduce() which takes funtion as one of the argument and a sequence as secound argument</li>\n",
    "        <li>Store the initial value in other variable.</li>\n",
    "        <li>Then using a loop passing the remaining values to the function with initial value.</li>\n",
    "        <li>After executing the operation our initial value upadate each and every time</li>\n",
    "        <li>Creating different different function for performinig the task</li>\n",
    "    </ol>\n",
    "</p>"
   ]
  },
  {
   "cell_type": "markdown",
   "metadata": {},
   "source": [
    "<b>Ques 1.2  Write a Python program to implement your own myfilter() function which works exactly like Python's built-in function filter()</b>"
   ]
  },
  {
   "cell_type": "code",
   "execution_count": 2,
   "metadata": {},
   "outputs": [
    {
     "name": "stdout",
     "output_type": "stream",
     "text": [
      "\n",
      "Enter numbers as input those are separated by commas\t\t\t\t:   5, -1, 2, 4, -2, -6, 8, 3, 17, 18, 11\n",
      "\n",
      "Positive Integers on list ['5', ' -1', ' 2', ' 4', ' -2', ' -6', ' 8', ' 3', ' 17', ' 18', ' 11'] using custom filter function : [2, 3, 4, 5, 8, 11, 17, 18]\n",
      "Negative Integers on list ['5', ' -1', ' 2', ' 4', ' -2', ' -6', ' 8', ' 3', ' 17', ' 18', ' 11'] using custom filter function : [-6, -2, -1]\n",
      "Odd      Integers on list ['5', ' -1', ' 2', ' 4', ' -2', ' -6', ' 8', ' 3', ' 17', ' 18', ' 11'] using custom filter function : [-1, 3, 5, 11, 17]\n",
      "Odd +ve  Integers on list ['5', ' -1', ' 2', ' 4', ' -2', ' -6', ' 8', ' 3', ' 17', ' 18', ' 11'] using custom filter function : [3, 5, 11, 17]\n",
      "Odd -ve  Integers on list ['5', ' -1', ' 2', ' 4', ' -2', ' -6', ' 8', ' 3', ' 17', ' 18', ' 11'] using custom filter function : [-1]\n",
      "even     Integers on list ['5', ' -1', ' 2', ' 4', ' -2', ' -6', ' 8', ' 3', ' 17', ' 18', ' 11'] using custom filter function : [-6, -2, 2, 4, 8, 18]\n",
      "even +ve Integers on list ['5', ' -1', ' 2', ' 4', ' -2', ' -6', ' 8', ' 3', ' 17', ' 18', ' 11'] using custom filter function : [2, 4, 8, 18]\n",
      "even -ve Integers on list ['5', ' -1', ' 2', ' 4', ' -2', ' -6', ' 8', ' 3', ' 17', ' 18', ' 11'] using custom filter function : [-6, -2]\n",
      "Prime    Integers on list ['5', ' -1', ' 2', ' 4', ' -2', ' -6', ' 8', ' 3', ' 17', ' 18', ' 11'] using custom filter function : [2, 3, 5, 11, 17]\n"
     ]
    }
   ],
   "source": [
    "\n",
    "def myfilter(fun_, seq_):\n",
    "    \n",
    "    lst = list()\n",
    "    \n",
    "    for var in seq_:\n",
    "        if fun_(var):\n",
    "            lst.append(var)\n",
    "            \n",
    "    return lst\n",
    "\n",
    "def pos(num):\n",
    "    if (num <= 0): return False \n",
    "    else: return True\n",
    "    \n",
    "def neg(num):\n",
    "    if (num >= 0): return False \n",
    "    else: return True\n",
    "\n",
    "def odd(num):\n",
    "    if (num%2==1):return True\n",
    "    else: return False\n",
    "    \n",
    "def even(num):\n",
    "    if (num%2==0):return True\n",
    "    else: return False\n",
    "    \n",
    "def isPrime(num): \n",
    "    if (num <= 1): return False\n",
    "    \n",
    "    for i in range(2, num): \n",
    "        if num % i == 0: return False\n",
    "    return True\n",
    "    \n",
    "    \n",
    "\n",
    "input_ = input(\"\\nEnter numbers as input those are separated by commas\\t\\t\\t\\t:   \").split(',') # 5, -1, 2, 4, -2, -6, 8, 3, 17, 18, 11\n",
    "input__ = sorted(list(map(int, input_)))\n",
    "\n",
    "print ('\\nPositive Integers on list '+str(input_)+' using custom filter function : '  + str(myfilter(pos, input__)))\n",
    "print ('Negative Integers on list '+str(input_)+' using custom filter function : '  + str(myfilter(neg, input__)))\n",
    "print ('Odd      Integers on list '+str(input_)+' using custom filter function : '  + str(myfilter(odd, input__)))\n",
    "print ('Odd +ve  Integers on list '+str(input_)+' using custom filter function : '  + str(myfilter(odd, myfilter(pos, input__))))\n",
    "print ('Odd -ve  Integers on list '+str(input_)+' using custom filter function : '  + str(myfilter(odd, myfilter(neg, input__))))\n",
    "print ('even     Integers on list '+str(input_)+' using custom filter function : '  + str(myfilter(even, input__)))\n",
    "print ('even +ve Integers on list '+str(input_)+' using custom filter function : '  + str(myfilter(even, myfilter(pos, input__))))\n",
    "print ('even -ve Integers on list '+str(input_)+' using custom filter function : '  + str(myfilter(even, myfilter(neg, input__))))\n",
    "print ('Prime    Integers on list '+str(input_)+' using custom filter function : '  + str(myfilter(isPrime, input__)))"
   ]
  },
  {
   "cell_type": "markdown",
   "metadata": {},
   "source": [
    "### Steps : \n",
    "<p>\n",
    "    <ol>\n",
    "        <li>Taking input as comma separated values and split them using ',' commas as delimeter</li>\n",
    "        <li>Passing the values to our function myfilter() with accept other function and input_</li>\n",
    "        <li>Creating myfilter(), inside it taking and empty list</li>\n",
    "        <li>Using if condition we just check ehether the element is appropriate according to other fucntion or not</li>\n",
    "        <li>If values are according to the function condition then, function return true other wise false</li>\n",
    "        <li>Just print the returned values using regular function or nested function</li>\n",
    "    </ol>\n",
    "</p>"
   ]
  },
  {
   "cell_type": "markdown",
   "metadata": {},
   "source": [
    "<b>Ques 2.\n",
    "Implement List comprehensions to produce the following lists.\n",
    "Write List comprehensions to produce the following Lists\n",
    "\n",
    "['A', 'C', 'A', 'D', 'G', 'I', ’L’, ‘ D’]\n",
    "\n",
    "['x', 'xx', 'xxx', 'xxxx', 'y', 'yy', 'yyy', 'yyyy', 'z', 'zz', 'zzz', 'zzzz']\n",
    "\n",
    "['x', 'y', 'z', 'xx', 'yy', 'zz', 'xx', 'yy', 'zz', 'xxxx', 'yyyy', 'zzzz']\n",
    "\n",
    "[[2], [3], [4], [3], [4], [5], [4], [5], [6]]\n",
    "\n",
    "[[2, 3, 4, 5], [3, 4, 5, 6], [4, 5, 6, 7], [5, 6, 7, 8]]\n",
    "\n",
    "[(1, 1), (2, 1), (3, 1), (1, 2), (2, 2), (3, 2), (1, 3), (2, 3), (3, 3)] </b>"
   ]
  },
  {
   "cell_type": "code",
   "execution_count": 3,
   "metadata": {},
   "outputs": [
    {
     "name": "stdout",
     "output_type": "stream",
     "text": [
      "****************************************************************************************************\n",
      "Input   :\tACADGILD\n",
      "\n",
      "Output  :   ['A', 'C', 'A', 'D', 'G', 'I', 'L', 'D'] \n",
      "\n",
      "****************************************************************************************************\n",
      "Input   :\txyz\n",
      "\n",
      "Output  :   ['x', 'xx', 'xxx', 'xxxx', 'y', 'yy', 'yyy', 'yyyy', 'z', 'zz', 'zzz', 'zzzz']\n",
      "\n",
      "****************************************************************************************************\n",
      "Input   :\txyz\n",
      "\n",
      "Output  :   ['x', 'y', 'z', 'xx', 'yy', 'zz', 'xxx', 'yyy', 'zzz', 'xxxx', 'yyyy', 'zzzz']\n",
      "\n",
      "****************************************************************************************************\n",
      "Input   :\t234\n",
      "\n",
      "Output  :   [[2], [3], [4], [3], [4], [5], [4], [5], [6]]\n",
      "\n",
      "****************************************************************************************************\n",
      "Input   :\t2345\n",
      "\n",
      "Output  :   [[2, 3, 4, 5], [3, 4, 5, 6], [4, 5, 6, 7], [5, 6, 7, 8]]\n",
      "\n",
      "****************************************************************************************************\n",
      "Input   :\t123\n",
      "\n",
      "Output  :   [(1, 1), (2, 1), (3, 1), (1, 2), (2, 2), (3, 2), (1, 3), (2, 3), (3, 3)]\n",
      "\n",
      "****************************************************************************************************\n"
     ]
    }
   ],
   "source": [
    "print('*'*100)\n",
    "\n",
    "input_ = input(\"Input   :\\t\") # ACADGILD\n",
    "char_list  = [char_list for char_list in input_]\n",
    "print('\\nOutput  :  ', char_list,'\\n')\n",
    "\n",
    "print('*'*100)\n",
    "\n",
    "input_ = list(input('Input   :\\t')) # xyz\n",
    "input_ = [ var*num for var in input_ for num in range(1,5) ] \n",
    "print(\"\\nOutput  :   \" +str(input_)+'\\n')\n",
    "\n",
    "print('*'*100)\n",
    "\n",
    "input_ = input('Input   :\\t') # xyz\n",
    "input_ = [ var*num for num in range(1,5) for var in input_ ]\n",
    "print(\"\\nOutput  :   \" +   str(input_)+'\\n')\n",
    "\n",
    "print('*'*100)\n",
    "\n",
    "input_ = input(\"Input   :\\t\") # 234\n",
    "input_ = list(map(int, input_))\n",
    "input_ = [ [var + num] for var in input_ for num in range(0,3)]\n",
    "print(\"\\nOutput  :   \" +  str(input_)+'\\n')\n",
    "\n",
    "print('*'*100)\n",
    "\n",
    "input_ = input(\"Input   :\\t\") # 2345\n",
    "input_ = list(map(int, input_))\n",
    "input_ = [[var + num for var in input_] for num in range(0, 4)]\n",
    "print(\"\\nOutput  :   \" +  str(input_)+'\\n')\n",
    "\n",
    "print('*'*100)\n",
    "\n",
    "input_ = input(\"Input   :\\t\") # 123\n",
    "input_ = list(map(int, input_))\n",
    "input_ = [(num_2 , num_1) for num_1 in input_ for num_2 in input_]\n",
    "print(\"\\nOutput  :   \" +  str(input_)+'\\n')\n",
    "\n",
    "print('*'*100)"
   ]
  },
  {
   "cell_type": "markdown",
   "metadata": {},
   "source": [
    "### Steps : \n",
    "<p>\n",
    "    <ol>\n",
    "        <li>Taking input using input()</li>\n",
    "        <li>Storing values in variable. and passing it to the  List comprehensions which we defined</li>\n",
    "        <li>Using map function I just map the datatype like converting string values in a list to int type</li>\n",
    "        <li>After executing the operation our initial value upadate each and every time</li>\n",
    "        <li>Printing the values</li>\n",
    "    </ol>\n",
    "</p>"
   ]
  },
  {
   "cell_type": "markdown",
   "metadata": {},
   "source": [
    "<b>Ques 3 : \n",
    "Implement a function longestWord() that takes a list of words and returns the longest one</b>"
   ]
  },
  {
   "cell_type": "code",
   "execution_count": 4,
   "metadata": {},
   "outputs": [
    {
     "name": "stdout",
     "output_type": "stream",
     "text": [
      "****************************************************************************************************\n",
      "\n",
      "Input   :\tDeep Learning is the present buzz in the realm of Artificial Intelligence\n",
      "\n",
      "List    :\t['Deep', 'Learning', 'is', 'the', 'present', 'buzz', 'in', 'the', 'realm', 'of', 'Artificial', 'Intelligence']\n",
      "\n",
      "Output  :\t\"Intelligence\" : is the longest word in the list\n",
      "\n",
      "****************************************************************************************************\n"
     ]
    }
   ],
   "source": [
    "from functools import reduce\n",
    "\n",
    "def longestWord(list_):\n",
    "    return reduce((lambda word_1, word_2:word_1 if len(word_1) > len(word_2) else word_2), list_)\n",
    "\n",
    "print('*'*100)\n",
    "\n",
    "input_ = input(\"\\nInput   :\\t\").split(' ') # Deep Learning is the present buzz in the realm of Artificial Intelligence\n",
    "list_  = longestWord(list(input_))\n",
    "\n",
    "print('\\nList    :\\t'+str(input_))\n",
    "print('\\nOutput  :\\t'+'\"'+str(list_)+'\"'+' : is the longest word in the list\\n')\n",
    "\n",
    "print('*'*100)"
   ]
  },
  {
   "cell_type": "markdown",
   "metadata": {},
   "source": [
    "### Steps : \n",
    "<p>\n",
    "    <ol>\n",
    "        <li>Taking input using input() and split the values using split() and commas as delimeter</li>\n",
    "        <li>importing reduce from functools</li>\n",
    "        <li>Creating a finction logestWord which check the length of each words, it accepts list as argument</li>\n",
    "        <li>Using simple if else condition and len() we retun the longest length word</li>\n",
    "        <li>Printing the value</li>\n",
    "    </ol>\n",
    "</p>"
   ]
  },
  {
   "cell_type": "markdown",
   "metadata": {},
   "source": [
    "<p><b>Task 2:\n",
    "    <hr>\n",
    "Ques 1.1 : \n",
    "Write a Python Program(with class concepts) to find the area of the triangle using the below\n",
    "formula.\n",
    "\n",
    "area = (s*(s-a)*(s-b)*(s-c)) ** 0.5\n",
    "\n",
    "Function to take the length of the sides of triangle from user should be defined in the parent\n",
    "class and function to calculate the area should be defined in subclass.</b></p>"
   ]
  },
  {
   "cell_type": "code",
   "execution_count": 5,
   "metadata": {
    "scrolled": true
   },
   "outputs": [
    {
     "name": "stdout",
     "output_type": "stream",
     "text": [
      "Side_1 : 4\n",
      "Side_2 : 13\n",
      "Side_3 : 15\n",
      "**************************************************\n",
      "child class executed!\n",
      "\n",
      "**************************************************\n",
      "\n",
      "Parent class executed!\n",
      "length of the sides are : { 4, 13, 15 }\n",
      "\n",
      "**************************************************\n",
      "\n",
      "Perimeter of the triange is : 16.0\n",
      "**************************************************\n",
      "\n",
      "Area of triangle = 24.0\n",
      "\n",
      "**************************************************\n"
     ]
    }
   ],
   "source": [
    "from math import sqrt\n",
    "\n",
    "class Parent:\n",
    "    def __init__(self, side_1, side_2, side_3):\n",
    "        self.side_1 = side_1\n",
    "        self.side_2 = side_2\n",
    "        self.side_3 = side_3\n",
    "        print('\\nParent class executed!\\nlength of the sides are : { '+str(side_1)+', '+str(side_2)+', '+str(side_3)+' }\\n')\n",
    "        print('*'*50)\n",
    "        \n",
    "class Child (Parent):\n",
    "    def __init__(self, side_1, side_2, side_3):\n",
    "        print('*'*50)\n",
    "        print('child class executed!\\n')\n",
    "        print('*'*50)\n",
    "        super(Child, self).__init__(side_1, side_2, side_3)\n",
    "        \n",
    "    def area(self):\n",
    "        perimeter = (self.side_1 + self.side_2 + self.side_3)/2\n",
    "        print('\\nPerimeter of the triange is : '+str(perimeter))\n",
    "        print('*'*50)\n",
    "        return sqrt(perimeter * (perimeter - self.side_1) * (perimeter - self.side_2) * (perimeter - self.side_3))#** 0.5, I had use sqrt() instead of **0.5\n",
    "    \n",
    "    \n",
    "side_1 = int(input('Side_1 : '))\n",
    "side_2 = int(input('Side_2 : '))\n",
    "side_3 = int(input('Side_3 : '))\n",
    "object_ = Child(side_1, side_2, side_3)\n",
    "\n",
    "print('\\nArea of triangle = '+ str(object_.area())+'\\n')\n",
    "print('*'*50)\n",
    "        "
   ]
  },
  {
   "cell_type": "markdown",
   "metadata": {},
   "source": [
    "### Steps : \n",
    "<p>\n",
    "    <ol>\n",
    "        <li>Creating two classes Parent class and child class and child class inherited the Parent class.</li>\n",
    "        <li>Taking input using input(), provinding parameters for triangle like size in parent class and defining function inside child class.</li>\n",
    "        <li>Taking the sides values from Parent class and proving it to the function area() which defined in child class</li>\n",
    "        <li>Calculate the perimeter of triangle and applied heron's formula</li>\n",
    "        <li>After applying heron's formula we get the area of tringle</li>\n",
    "        <li>Printing the values</li>\n",
    "    </ol>\n",
    "</p>"
   ]
  },
  {
   "cell_type": "markdown",
   "metadata": {},
   "source": [
    "<b>Ques 1.2\n",
    "Write a function filter_long_words() that takes a list of words and an integer n and returns the list\n",
    "of words that are longer than n.\n",
    "</b>"
   ]
  },
  {
   "cell_type": "code",
   "execution_count": 6,
   "metadata": {},
   "outputs": [
    {
     "name": "stdout",
     "output_type": "stream",
     "text": [
      "************************************************************************************************************************\n",
      "input : Deep Learning is the present buzz in the realm of Artificial Intelligence\n",
      "\n",
      "list : ['Deep', 'Learning', 'is', 'the', 'present', 'buzz', 'in', 'the', 'realm', 'of', 'Artificial', 'Intelligence']\n",
      "\n",
      "************************************************************************************************************************\n",
      "\n",
      "list of words > 2 length  : ['Deep', 'Learning', 'the', 'present', 'buzz', 'the', 'realm', 'Artificial', 'Intelligence']\n",
      "\n",
      "list of words > 4 length  : ['Learning', 'present', 'realm', 'Artificial', 'Intelligence']\n",
      "\n",
      "list of words > 6 length  : ['Learning', 'present', 'Artificial', 'Intelligence']\n",
      "\n",
      "list of words > 8 length  : ['Artificial', 'Intelligence']\n",
      "\n",
      "list of words > 10 length : ['Intelligence']\n",
      "\n",
      "************************************************************************************************************************\n"
     ]
    }
   ],
   "source": [
    "\n",
    "def filter_long_words(list_, n):\n",
    "    col=[]\n",
    "    for word in list_:\n",
    "        if len(word) > n:\n",
    "            col.append(word)\n",
    "    return col\n",
    "\n",
    "\n",
    "print('*'*120)\n",
    "input_ = list(input('input : ').split(' ')) #Deep Learning is the present buzz in the realm of Artificial Intelligence\n",
    "print('\\nlist : '+str(input_)+'\\n')\n",
    "print('*'*120)\n",
    "\n",
    "print('\\nlist of words > 2 length  : '+str(filter_long_words(input_ , 2)))\n",
    "print('\\nlist of words > 4 length  : '+str(filter_long_words(input_ , 4)))\n",
    "print('\\nlist of words > 6 length  : '+str(filter_long_words(input_ , 6)))\n",
    "print('\\nlist of words > 8 length  : '+str(filter_long_words(input_ , 8)))\n",
    "print('\\nlist of words > 10 length : '+str(filter_long_words(input_ , 10))+'\\n')\n",
    "print('*'*120)"
   ]
  },
  {
   "cell_type": "markdown",
   "metadata": {},
   "source": [
    "### Steps : \n",
    "<p>\n",
    "    <ol>\n",
    "        <li>Taking input using input() and creating an emply list col[]</li>\n",
    "        <li>defining a function filter_long_words() passing list and numeric value n and if words inside the list having greator length than the numeric value then append those words inside the emplty list col[]</li>\n",
    "        <li>Returning the empty list col[].</li>\n",
    "        <li>Printing the values</li>\n",
    "    </ol>\n",
    "</p>"
   ]
  },
  {
   "cell_type": "markdown",
   "metadata": {},
   "source": [
    "<b>Ques 2.1 :\n",
    "Write a Python program using function concept that maps list of words into a list of integers\n",
    "representing the lengths of the corresponding words.\n",
    "Hint: If a list [ ab,cde,erty] is passed on to the python function output should come as [2,3,4]\n",
    "Here 2,3 and 4 are the lengths of the words in the list.</b>"
   ]
  },
  {
   "cell_type": "code",
   "execution_count": 7,
   "metadata": {},
   "outputs": [
    {
     "name": "stdout",
     "output_type": "stream",
     "text": [
      "*****************************************************************************************************\n",
      "\n",
      "input 1 : ab cde erty\n",
      "\n",
      "output  : [2, 3, 4]\n",
      "\n",
      "*****************************************************************************************************\n",
      "\n",
      "input 2 : Deep Learning is the present buzz in the realm of Artificial Intelligence\n",
      "\n",
      "output  : [4, 8, 2, 3, 7, 4, 2, 3, 5, 2, 10, 12]\n",
      "\n",
      "*****************************************************************************************************\n"
     ]
    }
   ],
   "source": [
    "def length_of_word(list_):\n",
    "    return list(map(lambda word: len(word), list_))\n",
    "\n",
    "\n",
    "print('*'*101)\n",
    "input_ = list(input('\\ninput 1 : ').split(' ')) # Deep Learning is the present buzz in the realm of Artificial Intelligence\n",
    "print('\\noutput  : '+str(length_of_word(input_))+'\\n')\n",
    "print('*'*101)\n",
    "\n",
    "input_ = list(input('\\ninput 2 : ').split(' ')) # ab cde erty\n",
    "print('\\noutput  : '+str(length_of_word(input_))+'\\n')\n",
    "print('*'*101)"
   ]
  },
  {
   "cell_type": "markdown",
   "metadata": {},
   "source": [
    "### Steps : \n",
    "<p>\n",
    "    <ol>\n",
    "        <li>Taking input using input()</li>\n",
    "        <li>Storing values in variable. and passing it to the function length-of_word()</li>\n",
    "        <li>length_of_word() takes list and return a list which are map to the word having respective length using len()</li>\n",
    "        <li>Printing the values</li>\n",
    "    </ol>\n",
    "</p>"
   ]
  },
  {
   "cell_type": "markdown",
   "metadata": {},
   "source": [
    "<b>Ques 2.2\n",
    "Write a Python function which takes a character (i.e. a string of length 1) and returns True if it is\n",
    "a vowel, False otherwise.</b>\n"
   ]
  },
  {
   "cell_type": "code",
   "execution_count": 8,
   "metadata": {},
   "outputs": [
    {
     "name": "stdout",
     "output_type": "stream",
     "text": [
      "********************\n",
      "\n",
      "input 1 : a\n",
      "\n",
      "Output : True\n",
      "\n",
      "********************\n",
      "\n",
      "input 2 : A\n",
      "\n",
      "Output : True\n",
      "\n",
      "********************\n",
      "\n",
      "input 3 : b\n",
      "\n",
      "Output : False\n",
      "\n",
      "********************\n"
     ]
    }
   ],
   "source": [
    "def isVowel(char_):\n",
    "    vowel = 'aeiou'\n",
    "    return char.lower() in vowel\n",
    "\n",
    "\n",
    "print('*'*20)\n",
    "char = input('\\ninput 1 : ')\n",
    "print('\\nOutput : '+str(isVowel(char))+'\\n')\n",
    "\n",
    "print('*'*20)\n",
    "\n",
    "char = input('\\ninput 2 : ')\n",
    "print('\\nOutput : '+str(isVowel(char))+'\\n')\n",
    "print('*'*20)\n",
    "\n",
    "\n",
    "char = input('\\ninput 3 : ')\n",
    "print('\\nOutput : '+str(isVowel(char))+'\\n')\n",
    "print('*'*20)"
   ]
  },
  {
   "cell_type": "markdown",
   "metadata": {},
   "source": [
    "### Steps : \n",
    "<p>\n",
    "    <ol>\n",
    "        <li>Taking input using input()</li>\n",
    "        <li>Storing values in char_ variable. and passing it to the function isVowel()</li>\n",
    "        <li>isVowel() takes character as argument</li>\n",
    "        <li>taking another variable vowel containing string of all the vowel character</li>\n",
    "        <li> Check whether passed character is belong to the vowel string or not, if belong to string printing true otherwise false. printing the values</li>\n",
    "    </ol>\n",
    "</p>"
   ]
  },
  {
   "cell_type": "markdown",
   "metadata": {},
   "source": [
    "<p style=\"text-align: right\"><span><b>Name   : Arpit Dubey<br>\n",
    "    M. No. : 8251999950</b>\n",
    "    </span></p>"
   ]
  },
  {
   "cell_type": "code",
   "execution_count": null,
   "metadata": {},
   "outputs": [],
   "source": []
  }
 ],
 "metadata": {
  "kernelspec": {
   "display_name": "Python 3",
   "language": "python",
   "name": "python3"
  },
  "language_info": {
   "codemirror_mode": {
    "name": "ipython",
    "version": 3
   },
   "file_extension": ".py",
   "mimetype": "text/x-python",
   "name": "python",
   "nbconvert_exporter": "python",
   "pygments_lexer": "ipython3",
   "version": "3.7.3"
  }
 },
 "nbformat": 4,
 "nbformat_minor": 2
}
